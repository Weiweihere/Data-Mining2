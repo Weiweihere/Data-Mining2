{
  "cells": [
    {
      "cell_type": "markdown",
      "metadata": {
        "id": "view-in-github",
        "colab_type": "text"
      },
      "source": [
        "<a href=\"https://colab.research.google.com/github/Weiweihere/Data-Mining2/blob/main/rdf2vec_embedding_count_adjustedwalk.ipynb\" target=\"_parent\"><img src=\"https://colab.research.google.com/assets/colab-badge.svg\" alt=\"Open In Colab\"/></a>"
      ]
    },
    {
      "cell_type": "markdown",
      "metadata": {
        "id": "5JHR3OSEwScZ"
      },
      "source": [
        "## Imports"
      ]
    },
    {
      "cell_type": "code",
      "execution_count": null,
      "metadata": {
        "colab": {
          "base_uri": "https://localhost:8080/",
          "height": 731
        },
        "id": "Nv2VvPWxm1Sb",
        "outputId": "058d9612-2124-474b-fde0-76d6c5f1d9d5"
      },
      "outputs": [
        {
          "output_type": "stream",
          "name": "stdout",
          "text": [
            "Looking in indexes: https://pypi.org/simple, https://us-python.pkg.dev/colab-wheels/public/simple/\n",
            "Requirement already satisfied: pyRDF2vec==0.2.3 in /usr/local/lib/python3.8/dist-packages (0.2.3)\n",
            "Requirement already satisfied: python-Levenshtein<0.13.0,>=0.12.2 in /usr/local/lib/python3.8/dist-packages (from pyRDF2vec==0.2.3) (0.12.2)\n",
            "Requirement already satisfied: tomlkit<0.8.0,>=0.7.2 in /usr/local/lib/python3.8/dist-packages (from pyRDF2vec==0.2.3) (0.7.2)\n",
            "Requirement already satisfied: attrs<22.0.0,>=21.2.0 in /usr/local/lib/python3.8/dist-packages (from pyRDF2vec==0.2.3) (21.4.0)\n",
            "Requirement already satisfied: tqdm<5.0.0,>=4.61.0 in /usr/local/lib/python3.8/dist-packages (from pyRDF2vec==0.2.3) (4.64.1)\n",
            "Requirement already satisfied: python-louvain<0.16,>=0.15 in /usr/local/lib/python3.8/dist-packages (from pyRDF2vec==0.2.3) (0.15)\n",
            "Requirement already satisfied: torch<2.0.0,>=1.8.1 in /usr/local/lib/python3.8/dist-packages (from pyRDF2vec==0.2.3) (1.13.1+cu116)\n",
            "Collecting networkx<3.0.0,>=2.5.1\n",
            "  Using cached networkx-2.8.8-py3-none-any.whl (2.0 MB)\n",
            "Collecting matplotlib<4.0.0,>=3.4.2\n",
            "  Using cached matplotlib-3.6.3-cp38-cp38-manylinux_2_12_x86_64.manylinux2010_x86_64.whl (9.4 MB)\n",
            "Requirement already satisfied: cachetools<5.0.0,>=4.2.2 in /usr/local/lib/python3.8/dist-packages (from pyRDF2vec==0.2.3) (4.2.4)\n",
            "Requirement already satisfied: fonttools>=4.22.0 in /usr/local/lib/python3.8/dist-packages (from matplotlib<4.0.0,>=3.4.2->pyRDF2vec==0.2.3) (4.38.0)\n",
            "Requirement already satisfied: contourpy>=1.0.1 in /usr/local/lib/python3.8/dist-packages (from matplotlib<4.0.0,>=3.4.2->pyRDF2vec==0.2.3) (1.0.7)\n",
            "Requirement already satisfied: packaging>=20.0 in /usr/local/lib/python3.8/dist-packages (from matplotlib<4.0.0,>=3.4.2->pyRDF2vec==0.2.3) (21.3)\n",
            "Requirement already satisfied: pillow>=6.2.0 in /usr/local/lib/python3.8/dist-packages (from matplotlib<4.0.0,>=3.4.2->pyRDF2vec==0.2.3) (7.1.2)\n",
            "Requirement already satisfied: cycler>=0.10 in /usr/local/lib/python3.8/dist-packages (from matplotlib<4.0.0,>=3.4.2->pyRDF2vec==0.2.3) (0.11.0)\n",
            "Requirement already satisfied: pyparsing>=2.2.1 in /usr/local/lib/python3.8/dist-packages (from matplotlib<4.0.0,>=3.4.2->pyRDF2vec==0.2.3) (3.0.9)\n",
            "Requirement already satisfied: python-dateutil>=2.7 in /usr/local/lib/python3.8/dist-packages (from matplotlib<4.0.0,>=3.4.2->pyRDF2vec==0.2.3) (2.8.2)\n",
            "Requirement already satisfied: kiwisolver>=1.0.1 in /usr/local/lib/python3.8/dist-packages (from matplotlib<4.0.0,>=3.4.2->pyRDF2vec==0.2.3) (1.4.4)\n",
            "Requirement already satisfied: numpy>=1.19 in /usr/local/lib/python3.8/dist-packages (from matplotlib<4.0.0,>=3.4.2->pyRDF2vec==0.2.3) (1.21.6)\n",
            "Requirement already satisfied: setuptools in /usr/local/lib/python3.8/dist-packages (from python-Levenshtein<0.13.0,>=0.12.2->pyRDF2vec==0.2.3) (57.4.0)\n",
            "Requirement already satisfied: typing-extensions in /usr/local/lib/python3.8/dist-packages (from torch<2.0.0,>=1.8.1->pyRDF2vec==0.2.3) (4.4.0)\n",
            "Requirement already satisfied: six>=1.5 in /usr/local/lib/python3.8/dist-packages (from python-dateutil>=2.7->matplotlib<4.0.0,>=3.4.2->pyRDF2vec==0.2.3) (1.15.0)\n",
            "Installing collected packages: networkx, matplotlib\n",
            "  Attempting uninstall: networkx\n",
            "    Found existing installation: networkx 3.0\n",
            "    Uninstalling networkx-3.0:\n",
            "      Successfully uninstalled networkx-3.0\n",
            "  Attempting uninstall: matplotlib\n",
            "    Found existing installation: matplotlib 3.1.3\n",
            "    Uninstalling matplotlib-3.1.3:\n",
            "      Successfully uninstalled matplotlib-3.1.3\n",
            "Successfully installed matplotlib-3.6.3 networkx-2.8.8\n"
          ]
        },
        {
          "output_type": "display_data",
          "data": {
            "application/vnd.colab-display-data+json": {
              "pip_warning": {
                "packages": [
                  "matplotlib",
                  "mpl_toolkits"
                ]
              }
            }
          },
          "metadata": {}
        }
      ],
      "source": [
        "!pip install pyRDF2vec==0.2.3"
      ]
    },
    {
      "cell_type": "code",
      "execution_count": null,
      "metadata": {
        "colab": {
          "base_uri": "https://localhost:8080/"
        },
        "id": "iyT61vFWph_e",
        "outputId": "c5cdef4d-3702-4d01-bce4-4c1e3d52ff46"
      },
      "outputs": [
        {
          "output_type": "stream",
          "name": "stdout",
          "text": [
            "Looking in indexes: https://pypi.org/simple, https://us-python.pkg.dev/colab-wheels/public/simple/\n",
            "Requirement already satisfied: nest_asyncio==1.5.6 in /usr/local/lib/python3.8/dist-packages (1.5.6)\n"
          ]
        }
      ],
      "source": [
        "!pip install nest_asyncio==1.5.6"
      ]
    },
    {
      "cell_type": "code",
      "source": [
        "!pip install rdflib==6.2.0"
      ],
      "metadata": {
        "colab": {
          "base_uri": "https://localhost:8080/"
        },
        "id": "LMDI8Y-QyYH5",
        "outputId": "285ae1fa-896e-4ac5-e6fb-81fac173c878"
      },
      "execution_count": null,
      "outputs": [
        {
          "output_type": "stream",
          "name": "stdout",
          "text": [
            "Looking in indexes: https://pypi.org/simple, https://us-python.pkg.dev/colab-wheels/public/simple/\n",
            "Requirement already satisfied: rdflib==6.2.0 in /usr/local/lib/python3.8/dist-packages (6.2.0)\n",
            "Requirement already satisfied: pyparsing in /usr/local/lib/python3.8/dist-packages (from rdflib==6.2.0) (3.0.9)\n",
            "Requirement already satisfied: setuptools in /usr/local/lib/python3.8/dist-packages (from rdflib==6.2.0) (57.4.0)\n",
            "Requirement already satisfied: isodate in /usr/local/lib/python3.8/dist-packages (from rdflib==6.2.0) (0.6.1)\n",
            "Requirement already satisfied: six in /usr/local/lib/python3.8/dist-packages (from isodate->rdflib==6.2.0) (1.15.0)\n"
          ]
        }
      ]
    },
    {
      "cell_type": "code",
      "source": [
        "!pip install matplotlib==3.1.3"
      ],
      "metadata": {
        "colab": {
          "base_uri": "https://localhost:8080/"
        },
        "id": "6Qp5oMtbybmq",
        "outputId": "21ecb680-2031-4657-813e-791128601ccc"
      },
      "execution_count": null,
      "outputs": [
        {
          "output_type": "stream",
          "name": "stdout",
          "text": [
            "Looking in indexes: https://pypi.org/simple, https://us-python.pkg.dev/colab-wheels/public/simple/\n",
            "Collecting matplotlib==3.1.3\n",
            "  Using cached matplotlib-3.1.3-cp38-cp38-manylinux1_x86_64.whl (13.1 MB)\n",
            "Requirement already satisfied: numpy>=1.11 in /usr/local/lib/python3.8/dist-packages (from matplotlib==3.1.3) (1.21.6)\n",
            "Requirement already satisfied: kiwisolver>=1.0.1 in /usr/local/lib/python3.8/dist-packages (from matplotlib==3.1.3) (1.4.4)\n",
            "Requirement already satisfied: pyparsing!=2.0.4,!=2.1.2,!=2.1.6,>=2.0.1 in /usr/local/lib/python3.8/dist-packages (from matplotlib==3.1.3) (3.0.9)\n",
            "Requirement already satisfied: cycler>=0.10 in /usr/local/lib/python3.8/dist-packages (from matplotlib==3.1.3) (0.11.0)\n",
            "Requirement already satisfied: python-dateutil>=2.1 in /usr/local/lib/python3.8/dist-packages (from matplotlib==3.1.3) (2.8.2)\n",
            "Requirement already satisfied: six>=1.5 in /usr/local/lib/python3.8/dist-packages (from python-dateutil>=2.1->matplotlib==3.1.3) (1.15.0)\n",
            "Installing collected packages: matplotlib\n",
            "  Attempting uninstall: matplotlib\n",
            "    Found existing installation: matplotlib 3.6.3\n",
            "    Uninstalling matplotlib-3.6.3:\n",
            "      Successfully uninstalled matplotlib-3.6.3\n",
            "\u001b[31mERROR: pip's dependency resolver does not currently take into account all the packages that are installed. This behaviour is the source of the following dependency conflicts.\n",
            "pyrdf2vec 0.2.3 requires matplotlib<4.0.0,>=3.4.2, but you have matplotlib 3.1.3 which is incompatible.\u001b[0m\u001b[31m\n",
            "\u001b[0mSuccessfully installed matplotlib-3.1.3\n"
          ]
        }
      ]
    },
    {
      "cell_type": "code",
      "source": [
        "from rdflib import Graph, URIRef\n",
        "from pyrdf2vec.graphs import KG\n",
        "from pyrdf2vec import RDF2VecTransformer\n",
        "from pyrdf2vec.embedders import Word2Vec\n",
        "from pyrdf2vec.samplers import PageRankSampler\n",
        "from pyrdf2vec.walkers import RandomWalker\n",
        "from sklearn.decomposition import PCA\n",
        "import matplotlib.pyplot as plt\n",
        "import math\n",
        "import seaborn as sns\n",
        "import pandas as pd"
      ],
      "metadata": {
        "id": "oz5EHSSOygvU"
      },
      "execution_count": null,
      "outputs": []
    },
    {
      "cell_type": "markdown",
      "metadata": {
        "id": "eq-fY5ykwWrG"
      },
      "source": [
        "## Load libs and file"
      ]
    },
    {
      "cell_type": "code",
      "execution_count": null,
      "metadata": {
        "id": "ABIyfnHIG-ZU",
        "colab": {
          "base_uri": "https://localhost:8080/"
        },
        "outputId": "b0915c60-76ea-4906-d44c-744160c16f50"
      },
      "outputs": [
        {
          "output_type": "stream",
          "name": "stdout",
          "text": [
            "Drive already mounted at /content/drive; to attempt to forcibly remount, call drive.mount(\"/content/drive\", force_remount=True).\n"
          ]
        }
      ],
      "source": [
        "from google.colab import drive\n",
        "drive.mount('/content/drive')\n"
      ]
    },
    {
      "cell_type": "code",
      "execution_count": null,
      "metadata": {
        "id": "JzVlm-HCKiic",
        "colab": {
          "base_uri": "https://localhost:8080/"
        },
        "outputId": "8d7f7961-4b79-4c38-84fe-b8de0376bccf"
      },
      "outputs": [
        {
          "output_type": "execute_result",
          "data": {
            "text/plain": [
              "['healthcare-dataset-stroke-data.csv',\n",
              " 'Copy of Stroke_Prediction_v1.ipynb',\n",
              " 'Lab1__RS_for_movies.ipynb',\n",
              " 'DM01-Exercise-DataPreprocessing-V1.ipynb',\n",
              " 'eval_function.ipynb',\n",
              " 'Untitled0.ipynb',\n",
              " 'Copy of 02_basics.ipynb',\n",
              " 'DM2',\n",
              " 'Copy of 01_basics.ipynb',\n",
              " 'KG',\n",
              " 'KG_lecture_project',\n",
              " 'results_embedding_venue_label.csv',\n",
              " 'Venues related to embedding.png',\n",
              " 'Venues related to embedding.svg',\n",
              " 'HALwalk_rdf2vec_embedding_count.ipynb',\n",
              " 'result_embedding.ttl',\n",
              " 'Fixed_rdf2vec_embedding_count.ipynb',\n",
              " 'rdf2vec_embedding_count_adjustedwalk.ipynb']"
            ]
          },
          "metadata": {},
          "execution_count": 7
        }
      ],
      "source": [
        "import os\n",
        "\n",
        "path=\"/content/drive/My Drive/Colab Notebooks/\"\n",
        "os.chdir(path)\n",
        "os.listdir(path)"
      ]
    },
    {
      "cell_type": "code",
      "source": [
        "import networkx as nx"
      ],
      "metadata": {
        "id": "PqLqEOLpxbuN"
      },
      "execution_count": null,
      "outputs": []
    },
    {
      "cell_type": "code",
      "execution_count": null,
      "metadata": {
        "id": "LatsU-tnn2t_"
      },
      "outputs": [],
      "source": [
        "ttl_path = \"/content/drive/MyDrive/Colab Notebooks/KG/result_embedding.ttl\""
      ]
    },
    {
      "cell_type": "code",
      "execution_count": null,
      "metadata": {
        "id": "AWIBZMr3s09m",
        "colab": {
          "base_uri": "https://localhost:8080/"
        },
        "outputId": "c47da8cf-6c70-48db-b458-a96993e47208"
      },
      "outputs": [
        {
          "output_type": "stream",
          "name": "stdout",
          "text": [
            "79382\n"
          ]
        }
      ],
      "source": [
        "from rdflib import Graph\n",
        "g = Graph()\n",
        "g.parse(ttl_path)\n",
        "print(len(g))"
      ]
    },
    {
      "cell_type": "code",
      "execution_count": null,
      "metadata": {
        "id": "nxaNHa5UgKRp"
      },
      "outputs": [],
      "source": [
        "# degree_freq = nx.degree_histogram(g)\n",
        "# degrees = range(len(degree_freq))\n",
        "# plt.figure(figsize=(12, 8)) \n",
        "# plt.loglog(degrees[3:], degree_freq[3:],'go-') \n",
        "# plt.xlabel('Degree')\n",
        "# plt.ylabel('Frequency')"
      ]
    },
    {
      "cell_type": "code",
      "execution_count": null,
      "metadata": {
        "id": "0-_QwPm6QGjw"
      },
      "outputs": [],
      "source": [
        "from rdflib import Graph, Literal, RDF, URIRef\n",
        "pred_creator = URIRef(\"http://purl.org/dc/terms/creator\")\n",
        "pred_hasconcept = URIRef(\"https://semopenalex.org/property/hasConcept\")\n",
        "pred_hasHostVenue = URIRef(\"https://semopenalex.org/property/hasHostVenue\")\n",
        "pred_hasVenue = URIRef(\"https://semopenalex.org/property/hasVenue\")"
      ]
    },
    {
      "cell_type": "code",
      "execution_count": null,
      "metadata": {
        "colab": {
          "base_uri": "https://localhost:8080/"
        },
        "id": "GhW6vmwHXsEm",
        "outputId": "8b2ce2fb-9d54-40d3-9d1e-083811a5731c"
      },
      "outputs": [
        {
          "output_type": "stream",
          "name": "stdout",
          "text": [
            "https://semopenalex.org/work/W2132217588\n",
            "27051\n"
          ]
        }
      ],
      "source": [
        "works = set()\n",
        "for rdf_work in g.subjects():\n",
        "  works.add(rdf_work)\n",
        "print(rdf_work)\n",
        "print(len(works))"
      ]
    },
    {
      "cell_type": "code",
      "execution_count": null,
      "metadata": {
        "id": "6S2L4C1FbgHV"
      },
      "outputs": [],
      "source": [
        "authors = set()\n",
        "concepts = set()\n",
        "conferences = set()\n",
        "hostvenues =set()"
      ]
    },
    {
      "cell_type": "code",
      "source": [
        "for rdf_hostvenue in g.objects(predicate=pred_hasHostVenue):\n",
        "  hostvenues.add(rdf_hostvenue)\n",
        "print(len(hostvenues))\n",
        "print(rdf_hostvenue)"
      ],
      "metadata": {
        "colab": {
          "base_uri": "https://localhost:8080/"
        },
        "id": "E_oI2Jql7MUY",
        "outputId": "51e51850-a1f5-4bd8-a7f7-e091cffe9ed0"
      },
      "execution_count": null,
      "outputs": [
        {
          "output_type": "stream",
          "name": "stdout",
          "text": [
            "12589\n",
            "https://semopenalex.org/hostvenue/W2241881656V2765045311\n"
          ]
        }
      ]
    },
    {
      "cell_type": "code",
      "execution_count": null,
      "metadata": {
        "colab": {
          "base_uri": "https://localhost:8080/"
        },
        "id": "BXsADlfEzjVM",
        "outputId": "d358a76e-7d0a-4a82-e49c-46084a53929c"
      },
      "outputs": [
        {
          "output_type": "stream",
          "name": "stdout",
          "text": [
            "21594\n",
            "https://semopenalex.org/author/A2248963867\n"
          ]
        }
      ],
      "source": [
        "for rdf_author in g.objects(predicate=pred_creator):\n",
        "  authors.add(rdf_author)\n",
        "print(len(authors))\n",
        "print(rdf_author)"
      ]
    },
    {
      "cell_type": "code",
      "execution_count": null,
      "metadata": {
        "colab": {
          "base_uri": "https://localhost:8080/"
        },
        "id": "rG26Abu9chJs",
        "outputId": "5da5f5f1-3ab3-4538-8740-a7832554785a"
      },
      "outputs": [
        {
          "output_type": "stream",
          "name": "stdout",
          "text": [
            "3\n",
            "https://semopenalex.org/concept/C108801101\n"
          ]
        }
      ],
      "source": [
        "for rdf_concept in g.objects(predicate=pred_hasconcept):\n",
        "  concepts.add(rdf_concept)\n",
        "print(len(concepts))\n",
        "print(rdf_concept)"
      ]
    },
    {
      "cell_type": "code",
      "execution_count": null,
      "metadata": {
        "colab": {
          "base_uri": "https://localhost:8080/"
        },
        "id": "eeCZQZtKcWEZ",
        "outputId": "c78b42e1-623c-4539-92d3-7fb36cc8cf03"
      },
      "outputs": [
        {
          "output_type": "stream",
          "name": "stdout",
          "text": [
            "1870\n",
            "https://semopenalex.org/venue/V2596517720\n"
          ]
        }
      ],
      "source": [
        "for rdf_venue in g.objects(predicate=pred_hasVenue):\n",
        "  conferences.add(rdf_venue)\n",
        "print(len(conferences))\n",
        "print(rdf_venue)\n"
      ]
    },
    {
      "cell_type": "code",
      "execution_count": null,
      "metadata": {
        "id": "ThXu02xUuMwW"
      },
      "outputs": [],
      "source": [
        "authors_list = [str(author) for author in authors]\n",
        "works_list = [str(work) for work in works]\n",
        "conference_list = [str(conference) for conference in conferences]\n",
        "hostvenue_list = [str(hostvenues) for hostvenues in hostvenues]\n",
        "# entities = conference_list\n"
      ]
    },
    {
      "cell_type": "code",
      "execution_count": null,
      "metadata": {
        "id": "a1oiC8W75zhs",
        "colab": {
          "base_uri": "https://localhost:8080/"
        },
        "outputId": "2136e2b5-8bfa-45d3-fa9c-e573e2f9332a"
      },
      "outputs": [
        {
          "output_type": "execute_result",
          "data": {
            "text/plain": [
              "{rdflib.term.URIRef('http://purl.org/dc/terms/creator'),\n",
              " rdflib.term.URIRef('http://www.w3.org/2004/02/skos/core#broader'),\n",
              " rdflib.term.URIRef('http://xmlns.com/foaf/0.1/name'),\n",
              " rdflib.term.URIRef('https://semopenalex.org/property/hasConcept'),\n",
              " rdflib.term.URIRef('https://semopenalex.org/property/hasHostVenue'),\n",
              " rdflib.term.URIRef('https://semopenalex.org/property/hasVenue')}"
            ]
          },
          "metadata": {},
          "execution_count": 20
        }
      ],
      "source": [
        "label_predicates = set()\n",
        "for rdf_subject, rdf_predicate, rdf_object in g.triples((None, None, None)):\n",
        "    label_predicates.add(rdf_predicate)\n",
        "label_predicates"
      ]
    },
    {
      "cell_type": "code",
      "execution_count": null,
      "metadata": {
        "id": "tMSkIdoWvh0y"
      },
      "outputs": [],
      "source": [
        "# entities[-6:-1]"
      ]
    },
    {
      "cell_type": "code",
      "execution_count": null,
      "metadata": {
        "id": "twvZDlLypSkf"
      },
      "outputs": [],
      "source": [
        "from pyrdf2vec.graphs import KG\n",
        "knowledge_graph = KG(ttl_path)"
      ]
    },
    {
      "cell_type": "code",
      "source": [
        "conference_entities = [e.name for e in knowledge_graph._entities if 'venue' in e.name]\n",
        "conference_vertex = [e for e in knowledge_graph._entities if 'venue' in e.name]\n",
        "len(conference_entities)"
      ],
      "metadata": {
        "colab": {
          "base_uri": "https://localhost:8080/"
        },
        "id": "e96WHiAOt-Mv",
        "outputId": "eeec2c43-8394-4014-a57d-81ad20edbb14"
      },
      "execution_count": null,
      "outputs": [
        {
          "output_type": "execute_result",
          "data": {
            "text/plain": [
              "14459"
            ]
          },
          "metadata": {},
          "execution_count": 23
        }
      ]
    },
    {
      "cell_type": "code",
      "source": [
        "print(conference_vertex[0])\n"
      ],
      "metadata": {
        "colab": {
          "base_uri": "https://localhost:8080/"
        },
        "id": "82dQsCzWvSC_",
        "outputId": "b3db41a8-04f5-4f39-e647-e87d7a7b6f47"
      },
      "execution_count": null,
      "outputs": [
        {
          "output_type": "stream",
          "name": "stdout",
          "text": [
            "Vertex(name='https://semopenalex.org/hostvenue/W2368485297V2764706214')\n"
          ]
        }
      ]
    },
    {
      "cell_type": "code",
      "source": [
        "print(knowledge_graph.get_hops(conference_vertex[0]))\n"
      ],
      "metadata": {
        "colab": {
          "base_uri": "https://localhost:8080/"
        },
        "id": "KDs0aBwu03qz",
        "outputId": "b19fb07c-d31e-4455-a543-66d8bf1362c3"
      },
      "execution_count": null,
      "outputs": [
        {
          "output_type": "stream",
          "name": "stdout",
          "text": [
            "[(Vertex(name='https://semopenalex.org/property/hasVenue'), Vertex(name='https://semopenalex.org/venue/V2764706214'))]\n"
          ]
        }
      ]
    },
    {
      "cell_type": "code",
      "source": [
        "print(knowledge_graph.get_hops(conference_vertex[0], is_reverse=True))\n"
      ],
      "metadata": {
        "colab": {
          "base_uri": "https://localhost:8080/"
        },
        "id": "vmjOk8u708zJ",
        "outputId": "426c8a26-3b3a-4a7b-c61a-c0979894e3f2"
      },
      "execution_count": null,
      "outputs": [
        {
          "output_type": "stream",
          "name": "stdout",
          "text": [
            "[(Vertex(name='https://semopenalex.org/property/hasHostVenue'), Vertex(name='https://semopenalex.org/work/W2368485297'))]\n"
          ]
        }
      ]
    },
    {
      "cell_type": "code",
      "source": [
        "pip install networkx --upgrade"
      ],
      "metadata": {
        "colab": {
          "base_uri": "https://localhost:8080/"
        },
        "id": "FQepuKqGY6Hq",
        "outputId": "e85fda7e-ff7a-4452-934b-54f533015393"
      },
      "execution_count": null,
      "outputs": [
        {
          "output_type": "stream",
          "name": "stdout",
          "text": [
            "Looking in indexes: https://pypi.org/simple, https://us-python.pkg.dev/colab-wheels/public/simple/\n",
            "Requirement already satisfied: networkx in /usr/local/lib/python3.8/dist-packages (2.8.8)\n",
            "Collecting networkx\n",
            "  Using cached networkx-3.0-py3-none-any.whl (2.0 MB)\n",
            "Installing collected packages: networkx\n",
            "  Attempting uninstall: networkx\n",
            "    Found existing installation: networkx 2.8.8\n",
            "    Uninstalling networkx-2.8.8:\n",
            "      Successfully uninstalled networkx-2.8.8\n",
            "\u001b[31mERROR: pip's dependency resolver does not currently take into account all the packages that are installed. This behaviour is the source of the following dependency conflicts.\n",
            "pyrdf2vec 0.2.3 requires matplotlib<4.0.0,>=3.4.2, but you have matplotlib 3.1.3 which is incompatible.\n",
            "pyrdf2vec 0.2.3 requires networkx<3.0.0,>=2.5.1, but you have networkx 3.0 which is incompatible.\u001b[0m\u001b[31m\n",
            "\u001b[0mSuccessfully installed networkx-3.0\n"
          ]
        }
      ]
    },
    {
      "cell_type": "code",
      "source": [
        "pip install scipy --upgrade"
      ],
      "metadata": {
        "colab": {
          "base_uri": "https://localhost:8080/"
        },
        "id": "nQduiFYBZA1H",
        "outputId": "81ee17fa-0972-4837-fe22-3a0b980e6b32"
      },
      "execution_count": null,
      "outputs": [
        {
          "output_type": "stream",
          "name": "stdout",
          "text": [
            "Looking in indexes: https://pypi.org/simple, https://us-python.pkg.dev/colab-wheels/public/simple/\n",
            "Requirement already satisfied: scipy in /usr/local/lib/python3.8/dist-packages (1.10.0)\n",
            "Requirement already satisfied: numpy<1.27.0,>=1.19.5 in /usr/local/lib/python3.8/dist-packages (from scipy) (1.21.6)\n"
          ]
        }
      ]
    },
    {
      "cell_type": "markdown",
      "metadata": {
        "id": "paTwmBC1wbj-"
      },
      "source": [
        "## Train RDF2Vec"
      ]
    },
    {
      "cell_type": "code",
      "execution_count": null,
      "metadata": {
        "id": "U9dTAhSQq_Cs"
      },
      "outputs": [],
      "source": [
        "from pyrdf2vec import RDF2VecTransformer\n",
        "from pyrdf2vec.embedders import Word2Vec\n",
        "from pyrdf2vec.samplers import PageRankSampler\n",
        "from pyrdf2vec.walkers import RandomWalker\n",
        "\n",
        "transformer = RDF2VecTransformer(\n",
        "    Word2Vec(),\n",
        "    walkers=[RandomWalker(max_depth=6, \n",
        "                          max_walks=15, \n",
        "                          sampler=PageRankSampler(),\n",
        "                          with_reverse=True,\n",
        "                          md5_bytes=None,\n",
        "                          )],\n",
        "                    verbose=2\n",
        ")\n",
        "# embeddings, literals = transformer.fit_transform(knowledge_graph,conference_list)"
      ]
    },
    {
      "cell_type": "code",
      "source": [
        "walks = transformer.get_walks(\n",
        "    knowledge_graph, \n",
        "    conference_list ,\n",
        ")\n",
        "# + authors_list + works_list + hostvenue_list"
      ],
      "metadata": {
        "colab": {
          "base_uri": "https://localhost:8080/"
        },
        "id": "YAGpDbNiJdKu",
        "outputId": "dc393bc4-0748-42c2-9b84-29fb8fe7d759"
      },
      "execution_count": null,
      "outputs": [
        {
          "output_type": "stream",
          "name": "stdout",
          "text": [
            "KG(location='/content/drive/MyDrive/Colab Notebooks/KG/result_embedding.ttl', skip_predicates=set(), literals=[], fmt=None, mul_req=False, skip_verify=False, cache=TTLCache([(('_get_hops', Vertex(name='https://semopenalex.org/hostvenue/W2368485297V2764706214'), False), [(Vertex(name='https://semopenalex.org/property/hasVenue'), Vertex(name='https://semopenalex.org/venue/V2764706214'))]), (('_get_hops', Vertex(name='https://semopenalex.org/hostvenue/W2368485297V2764706214'), True), [(Vertex(name='https://semopenalex.org/property/hasHostVenue'), Vertex(name='https://semopenalex.org/work/W2368485297'))])], maxsize=1024, currsize=2), _is_remote=False)\n",
            "RandomWalker(max_depth=6, max_walks=15, sampler=PageRankSampler(inverse=False, split=False, alpha=0.85), n_jobs=None, with_reverse=True, random_state=None)\n"
          ]
        },
        {
          "output_type": "stream",
          "name": "stderr",
          "text": [
            "100%|██████████| 1870/1870 [02:44<00:00, 11.40it/s]\n"
          ]
        },
        {
          "output_type": "stream",
          "name": "stdout",
          "text": [
            "Extracted 31638 walks for 1870 entities (166.5030s)\n"
          ]
        }
      ]
    },
    {
      "cell_type": "code",
      "source": [
        "walks[0:10]"
      ],
      "metadata": {
        "id": "JmyImZN-Jm53"
      },
      "execution_count": null,
      "outputs": []
    },
    {
      "cell_type": "code",
      "source": [
        "transformer.fit(walks)"
      ],
      "metadata": {
        "colab": {
          "base_uri": "https://localhost:8080/",
          "height": 363
        },
        "id": "0XzkqEELD7h_",
        "outputId": "e048e1f1-1f17-46e6-e940-a2fb46aa661d"
      },
      "execution_count": null,
      "outputs": [
        {
          "output_type": "stream",
          "name": "stdout",
          "text": [
            "Word2Vec(kwargs={'min_count': 0})\n"
          ]
        },
        {
          "output_type": "error",
          "ename": "RuntimeError",
          "evalue": "ignored",
          "traceback": [
            "\u001b[0;31m---------------------------------------------------------------------------\u001b[0m",
            "\u001b[0;31mRuntimeError\u001b[0m                              Traceback (most recent call last)",
            "\u001b[0;32m<ipython-input-37-139c110248d5>\u001b[0m in \u001b[0;36m<module>\u001b[0;34m\u001b[0m\n\u001b[0;32m----> 1\u001b[0;31m \u001b[0mtransformer\u001b[0m\u001b[0;34m.\u001b[0m\u001b[0mfit\u001b[0m\u001b[0;34m(\u001b[0m\u001b[0mwalks\u001b[0m\u001b[0;34m)\u001b[0m\u001b[0;34m\u001b[0m\u001b[0;34m\u001b[0m\u001b[0m\n\u001b[0m",
            "\u001b[0;32m/usr/local/lib/python3.8/dist-packages/pyrdf2vec/rdf2vec.py\u001b[0m in \u001b[0;36mfit\u001b[0;34m(self, walks, is_update)\u001b[0m\n\u001b[1;32m    105\u001b[0m \u001b[0;34m\u001b[0m\u001b[0m\n\u001b[1;32m    106\u001b[0m         \u001b[0mtic\u001b[0m \u001b[0;34m=\u001b[0m \u001b[0mtime\u001b[0m\u001b[0;34m.\u001b[0m\u001b[0mperf_counter\u001b[0m\u001b[0;34m(\u001b[0m\u001b[0;34m)\u001b[0m\u001b[0;34m\u001b[0m\u001b[0;34m\u001b[0m\u001b[0m\n\u001b[0;32m--> 107\u001b[0;31m         \u001b[0mself\u001b[0m\u001b[0;34m.\u001b[0m\u001b[0membedder\u001b[0m\u001b[0;34m.\u001b[0m\u001b[0mfit\u001b[0m\u001b[0;34m(\u001b[0m\u001b[0mwalks\u001b[0m\u001b[0;34m,\u001b[0m \u001b[0mis_update\u001b[0m\u001b[0;34m)\u001b[0m\u001b[0;34m\u001b[0m\u001b[0;34m\u001b[0m\u001b[0m\n\u001b[0m\u001b[1;32m    108\u001b[0m         \u001b[0mtoc\u001b[0m \u001b[0;34m=\u001b[0m \u001b[0mtime\u001b[0m\u001b[0;34m.\u001b[0m\u001b[0mperf_counter\u001b[0m\u001b[0;34m(\u001b[0m\u001b[0;34m)\u001b[0m\u001b[0;34m\u001b[0m\u001b[0;34m\u001b[0m\u001b[0m\n\u001b[1;32m    109\u001b[0m \u001b[0;34m\u001b[0m\u001b[0m\n",
            "\u001b[0;32m/usr/local/lib/python3.8/dist-packages/pyrdf2vec/embedders/word2vec.py\u001b[0m in \u001b[0;36mfit\u001b[0;34m(self, walks, is_update)\u001b[0m\n\u001b[1;32m     50\u001b[0m         \"\"\"\n\u001b[1;32m     51\u001b[0m         \u001b[0mcorpus\u001b[0m \u001b[0;34m=\u001b[0m \u001b[0;34m[\u001b[0m\u001b[0mwalk\u001b[0m \u001b[0;32mfor\u001b[0m \u001b[0mentity_walks\u001b[0m \u001b[0;32min\u001b[0m \u001b[0mwalks\u001b[0m \u001b[0;32mfor\u001b[0m \u001b[0mwalk\u001b[0m \u001b[0;32min\u001b[0m \u001b[0mentity_walks\u001b[0m\u001b[0;34m]\u001b[0m\u001b[0;34m\u001b[0m\u001b[0;34m\u001b[0m\u001b[0m\n\u001b[0;32m---> 52\u001b[0;31m         \u001b[0mself\u001b[0m\u001b[0;34m.\u001b[0m\u001b[0m_model\u001b[0m\u001b[0;34m.\u001b[0m\u001b[0mbuild_vocab\u001b[0m\u001b[0;34m(\u001b[0m\u001b[0mcorpus\u001b[0m\u001b[0;34m,\u001b[0m \u001b[0mupdate\u001b[0m\u001b[0;34m=\u001b[0m\u001b[0mis_update\u001b[0m\u001b[0;34m)\u001b[0m\u001b[0;34m\u001b[0m\u001b[0;34m\u001b[0m\u001b[0m\n\u001b[0m\u001b[1;32m     53\u001b[0m         self._model.train(\n\u001b[1;32m     54\u001b[0m             \u001b[0mcorpus\u001b[0m\u001b[0;34m,\u001b[0m\u001b[0;34m\u001b[0m\u001b[0;34m\u001b[0m\u001b[0m\n",
            "\u001b[0;32m/usr/local/lib/python3.8/dist-packages/gensim/models/base_any2vec.py\u001b[0m in \u001b[0;36mbuild_vocab\u001b[0;34m(self, sentences, corpus_file, update, progress_per, keep_raw_vocab, trim_rule, **kwargs)\u001b[0m\n\u001b[1;32m    937\u001b[0m         \u001b[0mself\u001b[0m\u001b[0;34m.\u001b[0m\u001b[0mcorpus_count\u001b[0m \u001b[0;34m=\u001b[0m \u001b[0mcorpus_count\u001b[0m\u001b[0;34m\u001b[0m\u001b[0;34m\u001b[0m\u001b[0m\n\u001b[1;32m    938\u001b[0m         \u001b[0mself\u001b[0m\u001b[0;34m.\u001b[0m\u001b[0mcorpus_total_words\u001b[0m \u001b[0;34m=\u001b[0m \u001b[0mtotal_words\u001b[0m\u001b[0;34m\u001b[0m\u001b[0;34m\u001b[0m\u001b[0m\n\u001b[0;32m--> 939\u001b[0;31m         report_values = self.vocabulary.prepare_vocab(\n\u001b[0m\u001b[1;32m    940\u001b[0m             \u001b[0mself\u001b[0m\u001b[0;34m.\u001b[0m\u001b[0mhs\u001b[0m\u001b[0;34m,\u001b[0m \u001b[0mself\u001b[0m\u001b[0;34m.\u001b[0m\u001b[0mnegative\u001b[0m\u001b[0;34m,\u001b[0m \u001b[0mself\u001b[0m\u001b[0;34m.\u001b[0m\u001b[0mwv\u001b[0m\u001b[0;34m,\u001b[0m \u001b[0mupdate\u001b[0m\u001b[0;34m=\u001b[0m\u001b[0mupdate\u001b[0m\u001b[0;34m,\u001b[0m \u001b[0mkeep_raw_vocab\u001b[0m\u001b[0;34m=\u001b[0m\u001b[0mkeep_raw_vocab\u001b[0m\u001b[0;34m,\u001b[0m\u001b[0;34m\u001b[0m\u001b[0;34m\u001b[0m\u001b[0m\n\u001b[1;32m    941\u001b[0m             trim_rule=trim_rule, **kwargs)\n",
            "\u001b[0;32m/usr/local/lib/python3.8/dist-packages/gensim/models/word2vec.py\u001b[0m in \u001b[0;36mprepare_vocab\u001b[0;34m(self, hs, negative, wv, update, keep_raw_vocab, trim_rule, min_count, sample, dry_run)\u001b[0m\n\u001b[1;32m   1734\u001b[0m \u001b[0;34m\u001b[0m\u001b[0m\n\u001b[1;32m   1735\u001b[0m         \u001b[0;32mif\u001b[0m \u001b[0mself\u001b[0m\u001b[0;34m.\u001b[0m\u001b[0msorted_vocab\u001b[0m \u001b[0;32mand\u001b[0m \u001b[0;32mnot\u001b[0m \u001b[0mupdate\u001b[0m\u001b[0;34m:\u001b[0m\u001b[0;34m\u001b[0m\u001b[0;34m\u001b[0m\u001b[0m\n\u001b[0;32m-> 1736\u001b[0;31m             \u001b[0mself\u001b[0m\u001b[0;34m.\u001b[0m\u001b[0msort_vocab\u001b[0m\u001b[0;34m(\u001b[0m\u001b[0mwv\u001b[0m\u001b[0;34m)\u001b[0m\u001b[0;34m\u001b[0m\u001b[0;34m\u001b[0m\u001b[0m\n\u001b[0m\u001b[1;32m   1737\u001b[0m         \u001b[0;32mif\u001b[0m \u001b[0mhs\u001b[0m\u001b[0;34m:\u001b[0m\u001b[0;34m\u001b[0m\u001b[0;34m\u001b[0m\u001b[0m\n\u001b[1;32m   1738\u001b[0m             \u001b[0;31m# add info about each word's Huffman encoding\u001b[0m\u001b[0;34m\u001b[0m\u001b[0;34m\u001b[0m\u001b[0;34m\u001b[0m\u001b[0m\n",
            "\u001b[0;32m/usr/local/lib/python3.8/dist-packages/gensim/models/word2vec.py\u001b[0m in \u001b[0;36msort_vocab\u001b[0;34m(self, wv)\u001b[0m\n\u001b[1;32m   1581\u001b[0m         \u001b[0;34m\"\"\"Sort the vocabulary so the most frequent words have the lowest indexes.\"\"\"\u001b[0m\u001b[0;34m\u001b[0m\u001b[0;34m\u001b[0m\u001b[0m\n\u001b[1;32m   1582\u001b[0m         \u001b[0;32mif\u001b[0m \u001b[0mlen\u001b[0m\u001b[0;34m(\u001b[0m\u001b[0mwv\u001b[0m\u001b[0;34m.\u001b[0m\u001b[0mvectors\u001b[0m\u001b[0;34m)\u001b[0m\u001b[0;34m:\u001b[0m\u001b[0;34m\u001b[0m\u001b[0;34m\u001b[0m\u001b[0m\n\u001b[0;32m-> 1583\u001b[0;31m             \u001b[0;32mraise\u001b[0m \u001b[0mRuntimeError\u001b[0m\u001b[0;34m(\u001b[0m\u001b[0;34m\"cannot sort vocabulary after model weights already initialized.\"\u001b[0m\u001b[0;34m)\u001b[0m\u001b[0;34m\u001b[0m\u001b[0;34m\u001b[0m\u001b[0m\n\u001b[0m\u001b[1;32m   1584\u001b[0m         \u001b[0mwv\u001b[0m\u001b[0;34m.\u001b[0m\u001b[0mindex2word\u001b[0m\u001b[0;34m.\u001b[0m\u001b[0msort\u001b[0m\u001b[0;34m(\u001b[0m\u001b[0mkey\u001b[0m\u001b[0;34m=\u001b[0m\u001b[0;32mlambda\u001b[0m \u001b[0mword\u001b[0m\u001b[0;34m:\u001b[0m \u001b[0mwv\u001b[0m\u001b[0;34m.\u001b[0m\u001b[0mvocab\u001b[0m\u001b[0;34m[\u001b[0m\u001b[0mword\u001b[0m\u001b[0;34m]\u001b[0m\u001b[0;34m.\u001b[0m\u001b[0mcount\u001b[0m\u001b[0;34m,\u001b[0m \u001b[0mreverse\u001b[0m\u001b[0;34m=\u001b[0m\u001b[0;32mTrue\u001b[0m\u001b[0;34m)\u001b[0m\u001b[0;34m\u001b[0m\u001b[0;34m\u001b[0m\u001b[0m\n\u001b[1;32m   1585\u001b[0m         \u001b[0;32mfor\u001b[0m \u001b[0mi\u001b[0m\u001b[0;34m,\u001b[0m \u001b[0mword\u001b[0m \u001b[0;32min\u001b[0m \u001b[0menumerate\u001b[0m\u001b[0;34m(\u001b[0m\u001b[0mwv\u001b[0m\u001b[0;34m.\u001b[0m\u001b[0mindex2word\u001b[0m\u001b[0;34m)\u001b[0m\u001b[0;34m:\u001b[0m\u001b[0;34m\u001b[0m\u001b[0;34m\u001b[0m\u001b[0m\n",
            "\u001b[0;31mRuntimeError\u001b[0m: cannot sort vocabulary after model weights already initialized."
          ]
        }
      ]
    },
    {
      "cell_type": "code",
      "source": [
        "embeddings, literals = transformer.transform(\n",
        "    kg=knowledge_graph, \n",
        "    entities=conference_list,\n",
        ")"
      ],
      "metadata": {
        "id": "YkPabEjR_wIH"
      },
      "execution_count": null,
      "outputs": []
    },
    {
      "cell_type": "code",
      "execution_count": null,
      "metadata": {
        "colab": {
          "base_uri": "https://localhost:8080/"
        },
        "id": "IIbtl2LEwfpX",
        "outputId": "3ef05160-17d1-46ac-e010-d9bef6d96af1"
      },
      "outputs": [
        {
          "output_type": "execute_result",
          "data": {
            "text/plain": [
              "1870"
            ]
          },
          "metadata": {},
          "execution_count": 41
        }
      ],
      "source": [
        "len(embeddings)"
      ]
    },
    {
      "cell_type": "code",
      "execution_count": null,
      "metadata": {
        "colab": {
          "base_uri": "https://localhost:8080/"
        },
        "id": "dg88LA05w2EG",
        "outputId": "949f830d-00b6-455d-8b55-e4d651ad797c"
      },
      "outputs": [
        {
          "output_type": "stream",
          "name": "stdout",
          "text": [
            "100\n"
          ]
        },
        {
          "output_type": "execute_result",
          "data": {
            "text/plain": [
              "array([-0.04536589, -0.09243917,  0.01379903,  0.02238567,  0.0787261 ,\n",
              "       -0.19082487, -0.1224094 ,  0.02094833,  0.1942416 ,  0.29369777,\n",
              "       -0.04787657, -0.08319899, -0.09243397, -0.16610046,  0.5227498 ,\n",
              "        0.14054744,  0.22925076,  0.11417368,  0.08623806, -0.0940614 ,\n",
              "        0.14067966,  0.1052762 ,  0.18627508,  0.0994625 ,  0.10479254,\n",
              "       -0.31717092,  0.01516759,  0.00594677, -0.02885511, -0.20800854,\n",
              "        0.03502281,  0.28250256,  0.18263331,  0.06636378, -0.17163238,\n",
              "        0.15931916, -0.2614039 ,  0.18186787, -0.01559517,  0.2948838 ,\n",
              "       -0.00993019, -0.3275092 ,  0.20002908,  0.30169135, -0.07765707,\n",
              "        0.11188599, -0.22531284, -0.13134427,  0.24473688, -0.2705438 ,\n",
              "        0.35843366,  0.15680857,  0.15455571,  0.00646087,  0.14787756,\n",
              "       -0.530711  , -0.29152083, -0.29763412, -0.10129442, -0.1489639 ,\n",
              "       -0.01860247,  0.01760823,  0.13732412,  0.08067892, -0.12880331,\n",
              "       -0.09912157, -0.05945173, -0.17672889,  0.17222738,  0.3399979 ,\n",
              "       -0.02351817,  0.11691999, -0.09791425, -0.09347698, -0.02320515,\n",
              "       -0.08720458, -0.31065866, -0.22595644,  0.26823708,  0.08201975,\n",
              "       -0.02996855,  0.02960615,  0.2494694 ,  0.145269  ,  0.00603333,\n",
              "       -0.07480188,  0.05640949,  0.11794979,  0.10223861,  0.03840806,\n",
              "        0.10105053, -0.17602552,  0.03567947,  0.07054272,  0.14269234,\n",
              "       -0.19722484,  0.04394886, -0.4027624 ,  0.00724533, -0.06377158],\n",
              "      dtype=float32)"
            ]
          },
          "metadata": {},
          "execution_count": 42
        }
      ],
      "source": [
        "print(len(embeddings[0]))\n",
        "embeddings[0]"
      ]
    },
    {
      "cell_type": "markdown",
      "metadata": {
        "id": "Ix921iW6t3Hw"
      },
      "source": [
        "## Dimensionality reduction"
      ]
    },
    {
      "cell_type": "code",
      "source": [
        "from sklearn.manifold import TSNE\n",
        "from sklearn.decomposition import PCA\n",
        "from requests import request\n",
        "import pandas as pd\n"
      ],
      "metadata": {
        "id": "B7UO4zfFwjQp"
      },
      "execution_count": null,
      "outputs": []
    },
    {
      "cell_type": "code",
      "execution_count": null,
      "metadata": {
        "id": "gJSQZELL3JKf"
      },
      "outputs": [],
      "source": [
        "pca = PCA(n_components=2)\n",
        "reduced_conference_embeddings = pca.fit_transform(embeddings)"
      ]
    },
    {
      "cell_type": "code",
      "execution_count": null,
      "metadata": {
        "colab": {
          "base_uri": "https://localhost:8080/",
          "height": 623
        },
        "id": "S77sX-lC9y-n",
        "outputId": "e0fbf271-3619-4449-852c-8f3970a8a143"
      },
      "outputs": [
        {
          "output_type": "execute_result",
          "data": {
            "text/plain": [
              "<matplotlib.axes._subplots.AxesSubplot at 0x7f611592adc0>"
            ]
          },
          "metadata": {},
          "execution_count": 45
        },
        {
          "output_type": "display_data",
          "data": {
            "text/plain": [
              "<Figure size 720x720 with 1 Axes>"
            ],
            "image/png": "[encoded data removed]"
          },
          "metadata": {
            "needs_background": "light"
          }
        }
      ],
      "source": [
        "import matplotlib.pyplot as plt\n",
        "import seaborn as sns\n",
        "import pandas as pd\n",
        "\n",
        "plt.figure(figsize=(10,10))\n",
        "\n",
        "conference_df = pd.DataFrame(\n",
        "    reduced_conference_embeddings, \n",
        "    columns=[\"PC 0\", \"PC 1\"], \n",
        "    index=conference_list\n",
        ")\n",
        "sns.scatterplot(data=conference_df, x='PC 0', y='PC 1')"
      ]
    },
    {
      "cell_type": "code",
      "source": [
        "concept_labels = pd.read_csv(\n",
        "    '/content/drive/MyDrive/Colab Notebooks/KG/results_embedding_venue_label.csv',\n",
        "    # delimiter='\\t', \n",
        "    # encoding='latin-1',\n",
        "     index_col=0,\n",
        ")\n",
        "concept_labels.head()\n",
        "\n"
      ],
      "metadata": {
        "colab": {
          "base_uri": "https://localhost:8080/",
          "height": 237
        },
        "id": "aT24tSIDw0RX",
        "outputId": "5c6d007a-7d11-47d8-e257-6c2dcfb4c102"
      },
      "execution_count": null,
      "outputs": [
        {
          "output_type": "execute_result",
          "data": {
            "text/plain": [
              "                                                  conferenceLabel\n",
              "conference                                                       \n",
              "https://semopenalex.org/venue/V74100341   Opto-electronics Review\n",
              "https://semopenalex.org/venue/V74100341   Opto-electronics Review\n",
              "https://semopenalex.org/venue/V74100341   Opto-electronics Review\n",
              "https://semopenalex.org/venue/V192650101     Information Sciences\n",
              "https://semopenalex.org/venue/V192650101     Information Sciences"
            ],
            "text/html": [
              "\n",
              "  <div id=\"df-54b4e64d-c2e9-498c-a9a9-6eef6dc3678e\">\n",
              "    <div class=\"colab-df-container\">\n",
              "      <div>\n",
              "<style scoped>\n",
              "    .dataframe tbody tr th:only-of-type {\n",
              "        vertical-align: middle;\n",
              "    }\n",
              "\n",
              "    .dataframe tbody tr th {\n",
              "        vertical-align: top;\n",
              "    }\n",
              "\n",
              "    .dataframe thead th {\n",
              "        text-align: right;\n",
              "    }\n",
              "</style>\n",
              "<table border=\"1\" class=\"dataframe\">\n",
              "  <thead>\n",
              "    <tr style=\"text-align: right;\">\n",
              "      <th></th>\n",
              "      <th>conferenceLabel</th>\n",
              "    </tr>\n",
              "    <tr>\n",
              "      <th>conference</th>\n",
              "      <th></th>\n",
              "    </tr>\n",
              "  </thead>\n",
              "  <tbody>\n",
              "    <tr>\n",
              "      <th>https://semopenalex.org/venue/V74100341</th>\n",
              "      <td>Opto-electronics Review</td>\n",
              "    </tr>\n",
              "    <tr>\n",
              "      <th>https://semopenalex.org/venue/V74100341</th>\n",
              "      <td>Opto-electronics Review</td>\n",
              "    </tr>\n",
              "    <tr>\n",
              "      <th>https://semopenalex.org/venue/V74100341</th>\n",
              "      <td>Opto-electronics Review</td>\n",
              "    </tr>\n",
              "    <tr>\n",
              "      <th>https://semopenalex.org/venue/V192650101</th>\n",
              "      <td>Information Sciences</td>\n",
              "    </tr>\n",
              "    <tr>\n",
              "      <th>https://semopenalex.org/venue/V192650101</th>\n",
              "      <td>Information Sciences</td>\n",
              "    </tr>\n",
              "  </tbody>\n",
              "</table>\n",
              "</div>\n",
              "      <button class=\"colab-df-convert\" onclick=\"convertToInteractive('df-54b4e64d-c2e9-498c-a9a9-6eef6dc3678e')\"\n",
              "              title=\"Convert this dataframe to an interactive table.\"\n",
              "              style=\"display:none;\">\n",
              "        \n",
              "  <svg xmlns=\"http://www.w3.org/2000/svg\" height=\"24px\"viewBox=\"0 0 24 24\"\n",
              "       width=\"24px\">\n",
              "    <path d=\"M0 0h24v24H0V0z\" fill=\"none\"/>\n",
              "    <path d=\"M18.56 5.44l.94 2.06.94-2.06 2.06-.94-2.06-.94-.94-2.06-.94 2.06-2.06.94zm-11 1L8.5 8.5l.94-2.06 2.06-.94-2.06-.94L8.5 2.5l-.94 2.06-2.06.94zm10 10l.94 2.06.94-2.06 2.06-.94-2.06-.94-.94-2.06-.94 2.06-2.06.94z\"/><path d=\"M17.41 7.96l-1.37-1.37c-.4-.4-.92-.59-1.43-.59-.52 0-1.04.2-1.43.59L10.3 9.45l-7.72 7.72c-.78.78-.78 2.05 0 2.83L4 21.41c.39.39.9.59 1.41.59.51 0 1.02-.2 1.41-.59l7.78-7.78 2.81-2.81c.8-.78.8-2.07 0-2.86zM5.41 20L4 18.59l7.72-7.72 1.47 1.35L5.41 20z\"/>\n",
              "  </svg>\n",
              "      </button>\n",
              "      \n",
              "  <style>\n",
              "    .colab-df-container {\n",
              "      display:flex;\n",
              "      flex-wrap:wrap;\n",
              "      gap: 12px;\n",
              "    }\n",
              "\n",
              "    .colab-df-convert {\n",
              "      background-color: #E8F0FE;\n",
              "      border: none;\n",
              "      border-radius: 50%;\n",
              "      cursor: pointer;\n",
              "      display: none;\n",
              "      fill: #1967D2;\n",
              "      height: 32px;\n",
              "      padding: 0 0 0 0;\n",
              "      width: 32px;\n",
              "    }\n",
              "\n",
              "    .colab-df-convert:hover {\n",
              "      background-color: #E2EBFA;\n",
              "      box-shadow: 0px 1px 2px rgba(60, 64, 67, 0.3), 0px 1px 3px 1px rgba(60, 64, 67, 0.15);\n",
              "      fill: #174EA6;\n",
              "    }\n",
              "\n",
              "    [theme=dark] .colab-df-convert {\n",
              "      background-color: #3B4455;\n",
              "      fill: #D2E3FC;\n",
              "    }\n",
              "\n",
              "    [theme=dark] .colab-df-convert:hover {\n",
              "      background-color: #434B5C;\n",
              "      box-shadow: 0px 1px 3px 1px rgba(0, 0, 0, 0.15);\n",
              "      filter: drop-shadow(0px 1px 2px rgba(0, 0, 0, 0.3));\n",
              "      fill: #FFFFFF;\n",
              "    }\n",
              "  </style>\n",
              "\n",
              "      <script>\n",
              "        const buttonEl =\n",
              "          document.querySelector('#df-54b4e64d-c2e9-498c-a9a9-6eef6dc3678e button.colab-df-convert');\n",
              "        buttonEl.style.display =\n",
              "          google.colab.kernel.accessAllowed ? 'block' : 'none';\n",
              "\n",
              "        async function convertToInteractive(key) {\n",
              "          const element = document.querySelector('#df-54b4e64d-c2e9-498c-a9a9-6eef6dc3678e');\n",
              "          const dataTable =\n",
              "            await google.colab.kernel.invokeFunction('convertToInteractive',\n",
              "                                                     [key], {});\n",
              "          if (!dataTable) return;\n",
              "\n",
              "          const docLinkHtml = 'Like what you see? Visit the ' +\n",
              "            '<a target=\"_blank\" href=https://colab.research.google.com/notebooks/data_table.ipynb>data table notebook</a>'\n",
              "            + ' to learn more about interactive tables.';\n",
              "          element.innerHTML = '';\n",
              "          dataTable['output_type'] = 'display_data';\n",
              "          await google.colab.output.renderOutput(dataTable, element);\n",
              "          const docLink = document.createElement('div');\n",
              "          docLink.innerHTML = docLinkHtml;\n",
              "          element.appendChild(docLink);\n",
              "        }\n",
              "      </script>\n",
              "    </div>\n",
              "  </div>\n",
              "  "
            ]
          },
          "metadata": {},
          "execution_count": 46
        }
      ]
    },
    {
      "cell_type": "code",
      "source": [
        "concept_labels = concept_labels.drop_duplicates()"
      ],
      "metadata": {
        "id": "vSBOOSpSMSSf"
      },
      "execution_count": null,
      "outputs": []
    },
    {
      "cell_type": "code",
      "source": [
        "print(concept_labels)"
      ],
      "metadata": {
        "colab": {
          "base_uri": "https://localhost:8080/"
        },
        "id": "Ci_dammBQyyo",
        "outputId": "2717b4b4-78cb-4b9f-88e9-478603daddb3"
      },
      "execution_count": null,
      "outputs": [
        {
          "output_type": "stream",
          "name": "stdout",
          "text": [
            "                                                                        conferenceLabel\n",
            "conference                                                                             \n",
            "https://semopenalex.org/venue/V74100341                         Opto-electronics Review\n",
            "https://semopenalex.org/venue/V192650101                           Information Sciences\n",
            "https://semopenalex.org/venue/V106296714              Lecture Notes in Computer Science\n",
            "https://semopenalex.org/venue/V4210195117                               IEE proceedings\n",
            "https://semopenalex.org/venue/V414566                               Pattern Recognition\n",
            "...                                                                                 ...\n",
            "https://semopenalex.org/venue/V2764481197           The Journal of Engineering Research\n",
            "https://semopenalex.org/venue/V27723657               IEEE Photonics Technology Letters\n",
            "https://semopenalex.org/venue/V158759456             portal - Libraries and the Academy\n",
            "https://semopenalex.org/venue/V2764647083  Mineral Processing and Extractive Metallurgy\n",
            "https://semopenalex.org/venue/V2596517720                                 arXiv: Optics\n",
            "\n",
            "[1859 rows x 1 columns]\n"
          ]
        }
      ]
    },
    {
      "cell_type": "code",
      "source": [
        "concept_labels['conferenceLabel']"
      ],
      "metadata": {
        "colab": {
          "base_uri": "https://localhost:8080/"
        },
        "id": "nQcc53jJR6Y6",
        "outputId": "f3bee8da-3faf-46f8-f4c3-9706d63abf0b"
      },
      "execution_count": null,
      "outputs": [
        {
          "output_type": "execute_result",
          "data": {
            "text/plain": [
              "conference\n",
              "https://semopenalex.org/venue/V74100341                           Opto-electronics Review\n",
              "https://semopenalex.org/venue/V192650101                             Information Sciences\n",
              "https://semopenalex.org/venue/V106296714                Lecture Notes in Computer Science\n",
              "https://semopenalex.org/venue/V4210195117                                 IEE proceedings\n",
              "https://semopenalex.org/venue/V414566                                 Pattern Recognition\n",
              "                                                                 ...                     \n",
              "https://semopenalex.org/venue/V2764481197             The Journal of Engineering Research\n",
              "https://semopenalex.org/venue/V27723657                 IEEE Photonics Technology Letters\n",
              "https://semopenalex.org/venue/V158759456               portal - Libraries and the Academy\n",
              "https://semopenalex.org/venue/V2764647083    Mineral Processing and Extractive Metallurgy\n",
              "https://semopenalex.org/venue/V2596517720                                   arXiv: Optics\n",
              "Name: conferenceLabel, Length: 1859, dtype: object"
            ]
          },
          "metadata": {},
          "execution_count": 49
        }
      ]
    },
    {
      "cell_type": "code",
      "source": [
        "concept_labels.head()"
      ],
      "metadata": {
        "colab": {
          "base_uri": "https://localhost:8080/",
          "height": 237
        },
        "id": "5JSFvCNUPYCA",
        "outputId": "bdc22423-88a3-41ee-d276-365b9f9016de"
      },
      "execution_count": null,
      "outputs": [
        {
          "output_type": "execute_result",
          "data": {
            "text/plain": [
              "                                                             conferenceLabel\n",
              "conference                                                                  \n",
              "https://semopenalex.org/venue/V74100341              Opto-electronics Review\n",
              "https://semopenalex.org/venue/V192650101                Information Sciences\n",
              "https://semopenalex.org/venue/V106296714   Lecture Notes in Computer Science\n",
              "https://semopenalex.org/venue/V4210195117                    IEE proceedings\n",
              "https://semopenalex.org/venue/V414566                    Pattern Recognition"
            ],
            "text/html": [
              "\n",
              "  <div id=\"df-c21d2e0e-4b0e-405a-b46b-349554b6b6b7\">\n",
              "    <div class=\"colab-df-container\">\n",
              "      <div>\n",
              "<style scoped>\n",
              "    .dataframe tbody tr th:only-of-type {\n",
              "        vertical-align: middle;\n",
              "    }\n",
              "\n",
              "    .dataframe tbody tr th {\n",
              "        vertical-align: top;\n",
              "    }\n",
              "\n",
              "    .dataframe thead th {\n",
              "        text-align: right;\n",
              "    }\n",
              "</style>\n",
              "<table border=\"1\" class=\"dataframe\">\n",
              "  <thead>\n",
              "    <tr style=\"text-align: right;\">\n",
              "      <th></th>\n",
              "      <th>conferenceLabel</th>\n",
              "    </tr>\n",
              "    <tr>\n",
              "      <th>conference</th>\n",
              "      <th></th>\n",
              "    </tr>\n",
              "  </thead>\n",
              "  <tbody>\n",
              "    <tr>\n",
              "      <th>https://semopenalex.org/venue/V74100341</th>\n",
              "      <td>Opto-electronics Review</td>\n",
              "    </tr>\n",
              "    <tr>\n",
              "      <th>https://semopenalex.org/venue/V192650101</th>\n",
              "      <td>Information Sciences</td>\n",
              "    </tr>\n",
              "    <tr>\n",
              "      <th>https://semopenalex.org/venue/V106296714</th>\n",
              "      <td>Lecture Notes in Computer Science</td>\n",
              "    </tr>\n",
              "    <tr>\n",
              "      <th>https://semopenalex.org/venue/V4210195117</th>\n",
              "      <td>IEE proceedings</td>\n",
              "    </tr>\n",
              "    <tr>\n",
              "      <th>https://semopenalex.org/venue/V414566</th>\n",
              "      <td>Pattern Recognition</td>\n",
              "    </tr>\n",
              "  </tbody>\n",
              "</table>\n",
              "</div>\n",
              "      <button class=\"colab-df-convert\" onclick=\"convertToInteractive('df-c21d2e0e-4b0e-405a-b46b-349554b6b6b7')\"\n",
              "              title=\"Convert this dataframe to an interactive table.\"\n",
              "              style=\"display:none;\">\n",
              "        \n",
              "  <svg xmlns=\"http://www.w3.org/2000/svg\" height=\"24px\"viewBox=\"0 0 24 24\"\n",
              "       width=\"24px\">\n",
              "    <path d=\"M0 0h24v24H0V0z\" fill=\"none\"/>\n",
              "    <path d=\"M18.56 5.44l.94 2.06.94-2.06 2.06-.94-2.06-.94-.94-2.06-.94 2.06-2.06.94zm-11 1L8.5 8.5l.94-2.06 2.06-.94-2.06-.94L8.5 2.5l-.94 2.06-2.06.94zm10 10l.94 2.06.94-2.06 2.06-.94-2.06-.94-.94-2.06-.94 2.06-2.06.94z\"/><path d=\"M17.41 7.96l-1.37-1.37c-.4-.4-.92-.59-1.43-.59-.52 0-1.04.2-1.43.59L10.3 9.45l-7.72 7.72c-.78.78-.78 2.05 0 2.83L4 21.41c.39.39.9.59 1.41.59.51 0 1.02-.2 1.41-.59l7.78-7.78 2.81-2.81c.8-.78.8-2.07 0-2.86zM5.41 20L4 18.59l7.72-7.72 1.47 1.35L5.41 20z\"/>\n",
              "  </svg>\n",
              "      </button>\n",
              "      \n",
              "  <style>\n",
              "    .colab-df-container {\n",
              "      display:flex;\n",
              "      flex-wrap:wrap;\n",
              "      gap: 12px;\n",
              "    }\n",
              "\n",
              "    .colab-df-convert {\n",
              "      background-color: #E8F0FE;\n",
              "      border: none;\n",
              "      border-radius: 50%;\n",
              "      cursor: pointer;\n",
              "      display: none;\n",
              "      fill: #1967D2;\n",
              "      height: 32px;\n",
              "      padding: 0 0 0 0;\n",
              "      width: 32px;\n",
              "    }\n",
              "\n",
              "    .colab-df-convert:hover {\n",
              "      background-color: #E2EBFA;\n",
              "      box-shadow: 0px 1px 2px rgba(60, 64, 67, 0.3), 0px 1px 3px 1px rgba(60, 64, 67, 0.15);\n",
              "      fill: #174EA6;\n",
              "    }\n",
              "\n",
              "    [theme=dark] .colab-df-convert {\n",
              "      background-color: #3B4455;\n",
              "      fill: #D2E3FC;\n",
              "    }\n",
              "\n",
              "    [theme=dark] .colab-df-convert:hover {\n",
              "      background-color: #434B5C;\n",
              "      box-shadow: 0px 1px 3px 1px rgba(0, 0, 0, 0.15);\n",
              "      filter: drop-shadow(0px 1px 2px rgba(0, 0, 0, 0.3));\n",
              "      fill: #FFFFFF;\n",
              "    }\n",
              "  </style>\n",
              "\n",
              "      <script>\n",
              "        const buttonEl =\n",
              "          document.querySelector('#df-c21d2e0e-4b0e-405a-b46b-349554b6b6b7 button.colab-df-convert');\n",
              "        buttonEl.style.display =\n",
              "          google.colab.kernel.accessAllowed ? 'block' : 'none';\n",
              "\n",
              "        async function convertToInteractive(key) {\n",
              "          const element = document.querySelector('#df-c21d2e0e-4b0e-405a-b46b-349554b6b6b7');\n",
              "          const dataTable =\n",
              "            await google.colab.kernel.invokeFunction('convertToInteractive',\n",
              "                                                     [key], {});\n",
              "          if (!dataTable) return;\n",
              "\n",
              "          const docLinkHtml = 'Like what you see? Visit the ' +\n",
              "            '<a target=\"_blank\" href=https://colab.research.google.com/notebooks/data_table.ipynb>data table notebook</a>'\n",
              "            + ' to learn more about interactive tables.';\n",
              "          element.innerHTML = '';\n",
              "          dataTable['output_type'] = 'display_data';\n",
              "          await google.colab.output.renderOutput(dataTable, element);\n",
              "          const docLink = document.createElement('div');\n",
              "          docLink.innerHTML = docLinkHtml;\n",
              "          element.appendChild(docLink);\n",
              "        }\n",
              "      </script>\n",
              "    </div>\n",
              "  </div>\n",
              "  "
            ]
          },
          "metadata": {},
          "execution_count": 50
        }
      ]
    },
    {
      "cell_type": "code",
      "source": [
        "# has_venue = URIRef('https://semopenalex.org/property/hasVenue')--pre_hasVenue\n",
        "# has_hostvenue = URIref('https://semopenalex.org/property/hasHostVenue')--pre_hasHostVenue\n",
        "from rdflib import Graph, Literal, RDF, URIRef\n",
        "pred_creator = URIRef(\"http://purl.org/dc/terms/creator\")\n",
        "pred_hasconcept = URIRef(\"https://semopenalex.org/property/hasConcept\")\n",
        "pred_hasHostVenue = URIRef(\"https://semopenalex.org/property/hasHostVenue\")\n",
        "pred_hasVenue = URIRef(\"https://semopenalex.org/property/hasVenue\")"
      ],
      "metadata": {
        "id": "uE2B82Bzw5gT"
      },
      "execution_count": null,
      "outputs": []
    },
    {
      "cell_type": "code",
      "source": [
        "all_works = []\n",
        "all_venue = []\n",
        "\n",
        "for work, rdf_predicate, venue in g.triples((None,pred_hasVenue, None)):\n",
        "    all_works.append(str(work))\n",
        "    all_venue.append(str(venue))\n",
        "\n",
        "hostvenue_works = pd.DataFrame({\n",
        "    \"work\": all_works,\n",
        "    \"venue\": all_venue,\n",
        "})\n",
        "\n",
        "works_per_venue = hostvenue_works.groupby(by=['venue']).count()\n",
        "works_per_venue['log_work'] = works_per_venue['work'].apply(math.log2)\n",
        "print(works_per_venue)\n"
      ],
      "metadata": {
        "colab": {
          "base_uri": "https://localhost:8080/"
        },
        "id": "LwfpJwFiEC4a",
        "outputId": "04d3c36f-fe4e-4d2e-a3c9-0239f1a1d78a"
      },
      "execution_count": null,
      "outputs": [
        {
          "output_type": "stream",
          "name": "stdout",
          "text": [
            "                                           work  log_work\n",
            "venue                                                    \n",
            "https://semopenalex.org/venue/V1001844925     1  0.000000\n",
            "https://semopenalex.org/venue/V1003953879     3  1.584963\n",
            "https://semopenalex.org/venue/V100554201     32  5.000000\n",
            "https://semopenalex.org/venue/V100666833     18  4.169925\n",
            "https://semopenalex.org/venue/V1010394304     2  1.000000\n",
            "...                                         ...       ...\n",
            "https://semopenalex.org/venue/V98026630       1  0.000000\n",
            "https://semopenalex.org/venue/V98502992       1  0.000000\n",
            "https://semopenalex.org/venue/V98565333       2  1.000000\n",
            "https://semopenalex.org/venue/V991499945      1  0.000000\n",
            "https://semopenalex.org/venue/V99347777       2  1.000000\n",
            "\n",
            "[1870 rows x 2 columns]\n"
          ]
        }
      ]
    },
    {
      "cell_type": "code",
      "source": [
        "print(all_venue[0])\n",
        "print(all_works[0])"
      ],
      "metadata": {
        "colab": {
          "base_uri": "https://localhost:8080/"
        },
        "id": "u3YWjdJTJvGe",
        "outputId": "f12b62f2-3f79-49bf-e8fb-f2a04d8e6c64"
      },
      "execution_count": null,
      "outputs": [
        {
          "output_type": "stream",
          "name": "stdout",
          "text": [
            "https://semopenalex.org/venue/V74100341\n",
            "https://semopenalex.org/hostvenue/W1990829742V74100341\n"
          ]
        }
      ]
    },
    {
      "cell_type": "code",
      "source": [
        "works_per_venue['label'] = concept_labels['conferenceLabel']\n",
        "\n",
        "works_per_venue = pd.merge(\n",
        "    conference_df, \n",
        "    works_per_venue,\n",
        "    left_index=True, \n",
        "    right_index=True,\n",
        ")\n",
        "\n",
        "works_per_venue"
      ],
      "metadata": {
        "colab": {
          "base_uri": "https://localhost:8080/",
          "height": 835
        },
        "id": "2Y8f5pqS0fWM",
        "outputId": "8a73d78b-40d5-47b1-a3ae-145293263aab"
      },
      "execution_count": null,
      "outputs": [
        {
          "output_type": "execute_result",
          "data": {
            "text/plain": [
              "                                               PC 0      PC 1  work  log_work  \\\n",
              "https://semopenalex.org/venue/V140556538   1.678884  0.148181     8  3.000000   \n",
              "https://semopenalex.org/venue/V191329154   1.379924  0.062880     9  3.169925   \n",
              "https://semopenalex.org/venue/V57947533    1.187022  0.029064    40  5.321928   \n",
              "https://semopenalex.org/venue/V2765068458  0.961385  0.021315    18  4.169925   \n",
              "https://semopenalex.org/venue/V4210225229  0.857531  0.011403     1  0.000000   \n",
              "...                                             ...       ...   ...       ...   \n",
              "https://semopenalex.org/venue/V2595698293 -0.084137  0.007762     1  0.000000   \n",
              "https://semopenalex.org/venue/V4210204308 -0.119162 -0.006188     1  0.000000   \n",
              "https://semopenalex.org/venue/V4210219567 -0.082069 -0.004876     1  0.000000   \n",
              "https://semopenalex.org/venue/V2764664148 -0.070689  0.009492    10  3.321928   \n",
              "https://semopenalex.org/venue/V4210191536 -0.028978  0.002231    39  5.285402   \n",
              "\n",
              "                                                                                       label  \n",
              "https://semopenalex.org/venue/V140556538                              Applied Soft Computing  \n",
              "https://semopenalex.org/venue/V191329154                                            Displays  \n",
              "https://semopenalex.org/venue/V57947533                                     Computer Science  \n",
              "https://semopenalex.org/venue/V2765068458    Information Security and Communications Privacy  \n",
              "https://semopenalex.org/venue/V4210225229  International journal of computer engineering ...  \n",
              "...                                                                                      ...  \n",
              "https://semopenalex.org/venue/V2595698293                        arXiv: Discrete Mathematics  \n",
              "https://semopenalex.org/venue/V4210204308      Bonfring international journal of data mining  \n",
              "https://semopenalex.org/venue/V4210219567     Journal of Computer Based Parallel Programming  \n",
              "https://semopenalex.org/venue/V2764664148                       Modern Electronics Technique  \n",
              "https://semopenalex.org/venue/V4210191536   Journal of information security and applications  \n",
              "\n",
              "[1870 rows x 5 columns]"
            ],
            "text/html": [
              "\n",
              "  <div id=\"df-f2fe4d44-5cd3-4039-bab5-17ec0717502c\">\n",
              "    <div class=\"colab-df-container\">\n",
              "      <div>\n",
              "<style scoped>\n",
              "    .dataframe tbody tr th:only-of-type {\n",
              "        vertical-align: middle;\n",
              "    }\n",
              "\n",
              "    .dataframe tbody tr th {\n",
              "        vertical-align: top;\n",
              "    }\n",
              "\n",
              "    .dataframe thead th {\n",
              "        text-align: right;\n",
              "    }\n",
              "</style>\n",
              "<table border=\"1\" class=\"dataframe\">\n",
              "  <thead>\n",
              "    <tr style=\"text-align: right;\">\n",
              "      <th></th>\n",
              "      <th>PC 0</th>\n",
              "      <th>PC 1</th>\n",
              "      <th>work</th>\n",
              "      <th>log_work</th>\n",
              "      <th>label</th>\n",
              "    </tr>\n",
              "  </thead>\n",
              "  <tbody>\n",
              "    <tr>\n",
              "      <th>https://semopenalex.org/venue/V140556538</th>\n",
              "      <td>1.678884</td>\n",
              "      <td>0.148181</td>\n",
              "      <td>8</td>\n",
              "      <td>3.000000</td>\n",
              "      <td>Applied Soft Computing</td>\n",
              "    </tr>\n",
              "    <tr>\n",
              "      <th>https://semopenalex.org/venue/V191329154</th>\n",
              "      <td>1.379924</td>\n",
              "      <td>0.062880</td>\n",
              "      <td>9</td>\n",
              "      <td>3.169925</td>\n",
              "      <td>Displays</td>\n",
              "    </tr>\n",
              "    <tr>\n",
              "      <th>https://semopenalex.org/venue/V57947533</th>\n",
              "      <td>1.187022</td>\n",
              "      <td>0.029064</td>\n",
              "      <td>40</td>\n",
              "      <td>5.321928</td>\n",
              "      <td>Computer Science</td>\n",
              "    </tr>\n",
              "    <tr>\n",
              "      <th>https://semopenalex.org/venue/V2765068458</th>\n",
              "      <td>0.961385</td>\n",
              "      <td>0.021315</td>\n",
              "      <td>18</td>\n",
              "      <td>4.169925</td>\n",
              "      <td>Information Security and Communications Privacy</td>\n",
              "    </tr>\n",
              "    <tr>\n",
              "      <th>https://semopenalex.org/venue/V4210225229</th>\n",
              "      <td>0.857531</td>\n",
              "      <td>0.011403</td>\n",
              "      <td>1</td>\n",
              "      <td>0.000000</td>\n",
              "      <td>International journal of computer engineering ...</td>\n",
              "    </tr>\n",
              "    <tr>\n",
              "      <th>...</th>\n",
              "      <td>...</td>\n",
              "      <td>...</td>\n",
              "      <td>...</td>\n",
              "      <td>...</td>\n",
              "      <td>...</td>\n",
              "    </tr>\n",
              "    <tr>\n",
              "      <th>https://semopenalex.org/venue/V2595698293</th>\n",
              "      <td>-0.084137</td>\n",
              "      <td>0.007762</td>\n",
              "      <td>1</td>\n",
              "      <td>0.000000</td>\n",
              "      <td>arXiv: Discrete Mathematics</td>\n",
              "    </tr>\n",
              "    <tr>\n",
              "      <th>https://semopenalex.org/venue/V4210204308</th>\n",
              "      <td>-0.119162</td>\n",
              "      <td>-0.006188</td>\n",
              "      <td>1</td>\n",
              "      <td>0.000000</td>\n",
              "      <td>Bonfring international journal of data mining</td>\n",
              "    </tr>\n",
              "    <tr>\n",
              "      <th>https://semopenalex.org/venue/V4210219567</th>\n",
              "      <td>-0.082069</td>\n",
              "      <td>-0.004876</td>\n",
              "      <td>1</td>\n",
              "      <td>0.000000</td>\n",
              "      <td>Journal of Computer Based Parallel Programming</td>\n",
              "    </tr>\n",
              "    <tr>\n",
              "      <th>https://semopenalex.org/venue/V2764664148</th>\n",
              "      <td>-0.070689</td>\n",
              "      <td>0.009492</td>\n",
              "      <td>10</td>\n",
              "      <td>3.321928</td>\n",
              "      <td>Modern Electronics Technique</td>\n",
              "    </tr>\n",
              "    <tr>\n",
              "      <th>https://semopenalex.org/venue/V4210191536</th>\n",
              "      <td>-0.028978</td>\n",
              "      <td>0.002231</td>\n",
              "      <td>39</td>\n",
              "      <td>5.285402</td>\n",
              "      <td>Journal of information security and applications</td>\n",
              "    </tr>\n",
              "  </tbody>\n",
              "</table>\n",
              "<p>1870 rows × 5 columns</p>\n",
              "</div>\n",
              "      <button class=\"colab-df-convert\" onclick=\"convertToInteractive('df-f2fe4d44-5cd3-4039-bab5-17ec0717502c')\"\n",
              "              title=\"Convert this dataframe to an interactive table.\"\n",
              "              style=\"display:none;\">\n",
              "        \n",
              "  <svg xmlns=\"http://www.w3.org/2000/svg\" height=\"24px\"viewBox=\"0 0 24 24\"\n",
              "       width=\"24px\">\n",
              "    <path d=\"M0 0h24v24H0V0z\" fill=\"none\"/>\n",
              "    <path d=\"M18.56 5.44l.94 2.06.94-2.06 2.06-.94-2.06-.94-.94-2.06-.94 2.06-2.06.94zm-11 1L8.5 8.5l.94-2.06 2.06-.94-2.06-.94L8.5 2.5l-.94 2.06-2.06.94zm10 10l.94 2.06.94-2.06 2.06-.94-2.06-.94-.94-2.06-.94 2.06-2.06.94z\"/><path d=\"M17.41 7.96l-1.37-1.37c-.4-.4-.92-.59-1.43-.59-.52 0-1.04.2-1.43.59L10.3 9.45l-7.72 7.72c-.78.78-.78 2.05 0 2.83L4 21.41c.39.39.9.59 1.41.59.51 0 1.02-.2 1.41-.59l7.78-7.78 2.81-2.81c.8-.78.8-2.07 0-2.86zM5.41 20L4 18.59l7.72-7.72 1.47 1.35L5.41 20z\"/>\n",
              "  </svg>\n",
              "      </button>\n",
              "      \n",
              "  <style>\n",
              "    .colab-df-container {\n",
              "      display:flex;\n",
              "      flex-wrap:wrap;\n",
              "      gap: 12px;\n",
              "    }\n",
              "\n",
              "    .colab-df-convert {\n",
              "      background-color: #E8F0FE;\n",
              "      border: none;\n",
              "      border-radius: 50%;\n",
              "      cursor: pointer;\n",
              "      display: none;\n",
              "      fill: #1967D2;\n",
              "      height: 32px;\n",
              "      padding: 0 0 0 0;\n",
              "      width: 32px;\n",
              "    }\n",
              "\n",
              "    .colab-df-convert:hover {\n",
              "      background-color: #E2EBFA;\n",
              "      box-shadow: 0px 1px 2px rgba(60, 64, 67, 0.3), 0px 1px 3px 1px rgba(60, 64, 67, 0.15);\n",
              "      fill: #174EA6;\n",
              "    }\n",
              "\n",
              "    [theme=dark] .colab-df-convert {\n",
              "      background-color: #3B4455;\n",
              "      fill: #D2E3FC;\n",
              "    }\n",
              "\n",
              "    [theme=dark] .colab-df-convert:hover {\n",
              "      background-color: #434B5C;\n",
              "      box-shadow: 0px 1px 3px 1px rgba(0, 0, 0, 0.15);\n",
              "      filter: drop-shadow(0px 1px 2px rgba(0, 0, 0, 0.3));\n",
              "      fill: #FFFFFF;\n",
              "    }\n",
              "  </style>\n",
              "\n",
              "      <script>\n",
              "        const buttonEl =\n",
              "          document.querySelector('#df-f2fe4d44-5cd3-4039-bab5-17ec0717502c button.colab-df-convert');\n",
              "        buttonEl.style.display =\n",
              "          google.colab.kernel.accessAllowed ? 'block' : 'none';\n",
              "\n",
              "        async function convertToInteractive(key) {\n",
              "          const element = document.querySelector('#df-f2fe4d44-5cd3-4039-bab5-17ec0717502c');\n",
              "          const dataTable =\n",
              "            await google.colab.kernel.invokeFunction('convertToInteractive',\n",
              "                                                     [key], {});\n",
              "          if (!dataTable) return;\n",
              "\n",
              "          const docLinkHtml = 'Like what you see? Visit the ' +\n",
              "            '<a target=\"_blank\" href=https://colab.research.google.com/notebooks/data_table.ipynb>data table notebook</a>'\n",
              "            + ' to learn more about interactive tables.';\n",
              "          element.innerHTML = '';\n",
              "          dataTable['output_type'] = 'display_data';\n",
              "          await google.colab.output.renderOutput(dataTable, element);\n",
              "          const docLink = document.createElement('div');\n",
              "          docLink.innerHTML = docLinkHtml;\n",
              "          element.appendChild(docLink);\n",
              "        }\n",
              "      </script>\n",
              "    </div>\n",
              "  </div>\n",
              "  "
            ]
          },
          "metadata": {},
          "execution_count": 54
        }
      ]
    },
    {
      "cell_type": "code",
      "source": [
        "plt.figure(figsize=(16, 16))\n",
        "sns.scatterplot(\n",
        "    data=works_per_venue, \n",
        "    x='PC 0', \n",
        "    y='PC 1',\n",
        "    size='log_work',\n",
        ")\n",
        "\n",
        "for i, txt in enumerate(works_per_venue['label'].values):\n",
        "    if works_per_venue['log_work'][i] >6:\n",
        "        plt.annotate(\n",
        "            txt, \n",
        "            (works_per_venue['PC 0'][i], works_per_venue['PC 1'][i]), \n",
        "            fontsize=10,\n",
        "        )"
      ],
      "metadata": {
        "id": "DJ2F5xMlxked",
        "colab": {
          "base_uri": "https://localhost:8080/",
          "height": 661
        },
        "outputId": "1700f1a1-6c52-4775-e6d0-f2464558da9f"
      },
      "execution_count": null,
      "outputs": [
        {
          "output_type": "display_data",
          "data": {
            "text/plain": [
              "<Figure size 1152x1152 with 1 Axes>"
            ],
            "image/png": "[encoded data removed]"
          },
          "metadata": {
            "needs_background": "light"
          }
        }
      ]
    },
    {
      "cell_type": "code",
      "source": [],
      "metadata": {
        "id": "fXIdCAXg0CsT"
      },
      "execution_count": null,
      "outputs": []
    },
    {
      "cell_type": "code",
      "execution_count": null,
      "metadata": {
        "id": "-BYr2sMY7tme"
      },
      "outputs": [],
      "source": []
    },
    {
      "cell_type": "code",
      "execution_count": null,
      "metadata": {
        "id": "qYaZpDCZ9LG0"
      },
      "outputs": [],
      "source": []
    }
  ],
  "metadata": {
    "colab": {
      "provenance": [],
      "include_colab_link": true
    },
    "kernelspec": {
      "display_name": "Python 3",
      "name": "python3"
    },
    "language_info": {
      "name": "python"
    }
  },
  "nbformat": 4,
  "nbformat_minor": 0
}